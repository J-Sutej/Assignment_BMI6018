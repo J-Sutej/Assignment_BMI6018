{
 "cells": [
  {
   "cell_type": "code",
   "execution_count": 7,
   "metadata": {},
   "outputs": [
    {
     "name": "stdout",
     "output_type": "stream",
     "text": [
      "<class 'int'>\n"
     ]
    }
   ],
   "source": [
    "#Question7\n",
    "# Jack has been prescribed 5 times, then I store 5 as a value in Medication\n",
    "Medication = 5\n",
    "print(type(Medication))"
   ]
  },
  {
   "cell_type": "code",
   "execution_count": 2,
   "metadata": {},
   "outputs": [
    {
     "name": "stdout",
     "output_type": "stream",
     "text": [
      "24.034609838166958\n"
     ]
    }
   ],
   "source": [
    "#Question 8\n",
    "weight = 60\n",
    "height = 1.58\n",
    "body_mass_index = weight/(height ** 2)\n",
    "print(float(body_mass_index))"
   ]
  },
  {
   "cell_type": "code",
   "execution_count": 18,
   "metadata": {},
   "outputs": [
    {
     "name": "stdout",
     "output_type": "stream",
     "text": [
      "2\n",
      "1\n",
      " \n",
      "I Love python\n",
      "7\n",
      "1285\n",
      "abc123\n",
      "73\n"
     ]
    }
   ],
   "source": [
    "#Question 11\n",
    "#Q1: Booleans\n",
    "print(True + True - False)\n",
    "\n",
    "#Q2: Booleans 2, logical tracker  = ?\n",
    "logical_tracker = True\n",
    "logical_tracker = logical_tracker & logical_tracker\n",
    "logical_tracker = logical_tracker | (logical_tracker - logical_tracker)\n",
    "print(logical_tracker)\n",
    "\n",
    "#Q5: String, find the index 2\n",
    "string = \"E. Coli\"\n",
    "print(string[2])\n",
    "\n",
    "#Q6: String 2, replace the wrong code\n",
    "string = \"I Bove python\"\n",
    "string2 = string.replace(\"B\",\"L\")\n",
    "print(string2)\n",
    "\n",
    "#Q9: Operator 2, how the \"+\", addition operation works differently for integers and strings.\n",
    "print(5+2)\n",
    "print(\"12\"+ str(85))\n",
    "print(\"abc\"+\"123\")\n",
    "\n",
    "#Q10: String3\n",
    "print(\"7\"+\"3\")\n"
   ]
  }
 ],
 "metadata": {
  "kernelspec": {
   "display_name": "Python 3",
   "language": "python",
   "name": "python3"
  },
  "language_info": {
   "codemirror_mode": {
    "name": "ipython",
    "version": 3
   },
   "file_extension": ".py",
   "mimetype": "text/x-python",
   "name": "python",
   "nbconvert_exporter": "python",
   "pygments_lexer": "ipython3",
   "version": "3.11.9"
  }
 },
 "nbformat": 4,
 "nbformat_minor": 2
}
