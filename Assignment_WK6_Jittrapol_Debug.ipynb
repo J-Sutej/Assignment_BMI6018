{
 "cells": [
  {
   "cell_type": "markdown",
   "metadata": {},
   "source": [
    "1.a\n",
    "Using the print() function only, get the wrong_add_function to print out where\n",
    "it is making a mistake, given the expected output for ex, \"we are making an error \n",
    "in the loop\", which you would put near the loop. \n",
    "Structure the print() statement to show what the expected output ought to be\n",
    "via f-strings: ie \"The correct answer is supposed to be: [...]\"."
   ]
  },
  {
   "cell_type": "code",
   "execution_count": 64,
   "metadata": {},
   "outputs": [
    {
     "name": "stdout",
     "output_type": "stream",
     "text": [
      "The arg1 index is 0 and the arg1 value is 1\n",
      "The correct answer is supposed to be: 2\n",
      "we are making an error in the loop \n",
      "The arg1 index is 1 and the arg1 value is 2\n",
      "The correct answer is supposed to be: 3\n",
      "we are making an error in the loop \n",
      "The arg1 index is 2 and the arg1 value is 3\n",
      "The correct answer is supposed to be: 4\n",
      "we are making an error in the loop \n"
     ]
    },
    {
     "data": {
      "text/plain": [
       "[6, 9, 12]"
      ]
     },
     "execution_count": 64,
     "metadata": {},
     "output_type": "execute_result"
    }
   ],
   "source": [
    "def wrong_add_function(arg1,arg2):\n",
    "   arg1_index=0\n",
    "   while arg1_index < len(arg1):\n",
    "      arg_2_sum = 0\n",
    "      print(f\"The arg1 index is {arg1_index} and the arg1 value is {arg1[arg1_index]}\")\n",
    "      print(f\"The correct answer is supposed to be: {arg1[arg1_index]+arg2[arg1_index]}\")\n",
    "      print(\"we are making an error in the loop \")\n",
    "      for arg2_elements in arg2:\n",
    "         arg_2_sum = sum([arg1[arg1_index]+i for i in arg2])\n",
    "\n",
    "         # For this list comprehension, it triple the summation of arg2[n] to each element in arg1 list, and then sum the list again \n",
    "         # So it is not neccesary to iterate arg2 in list comprehension\n",
    "      arg1[arg1_index]=arg_2_sum  \n",
    "      arg1_index+=1\n",
    "   \n",
    "\n",
    "   return arg1\n",
    "\n",
    "arg1 = [1,2,3]\n",
    "arg2 = [1,1,1]\n",
    "\n",
    "wrong_add_function(arg1, arg2)"
   ]
  },
  {
   "cell_type": "markdown",
   "metadata": {},
   "source": [
    "1.b\n",
    "Then, changing as little as possible, modify the function, using the same \n",
    "general structure to output the correct answer. Call this new function \n",
    "correct_add_function() "
   ]
  },
  {
   "cell_type": "code",
   "execution_count": 59,
   "metadata": {},
   "outputs": [
    {
     "data": {
      "text/plain": [
       "[2, 3, 4]"
      ]
     },
     "execution_count": 59,
     "metadata": {},
     "output_type": "execute_result"
    }
   ],
   "source": [
    "def correct_add_function(arg1,arg2):\n",
    "   arg1_index=0\n",
    "   while arg1_index < len(arg1):\n",
    "      arg_2_sum = 0\n",
    "      for arg2_elements in arg2:\n",
    "         arg_2_sum = sum([arg1[arg1_index] + arg2[arg1_index]]) # Change the list comprehension to a operation\n",
    "      arg1[arg1_index]=arg_2_sum  \n",
    "      arg1_index+=1\n",
    "   return arg1\n",
    "\n",
    "arg1 = [1,2,3]\n",
    "arg2 = [1,1,1]\n",
    "\n",
    "correct_add_function(arg1, arg2)"
   ]
  },
  {
   "cell_type": "markdown",
   "metadata": {},
   "source": [
    "2.a\n",
    "Update the numeric section of the function with your changes from 1 for both \n",
    "2.b and 2.c\n",
    "\n",
    "2.b\n",
    "Without modifying the string section code itself or the input directly, \n",
    "write a try, except block that catches the issue with the input below and \n",
    "returns an error message to the user, in case users give invalid inputs,\n",
    "(for example an input of [\"5\",\"2\", 5])\n",
    ": \"Your input argument [1 or 2] at element [n]\n",
    "is not of the expected type. Please change this and rerun. Name this function \n",
    "exception_add_function()\n",
    "\n",
    "2.c\n",
    "Without modifying the string section code itself or the input directly, \n",
    "write a try, except block that catches the issue with the input below and \n",
    "gets it to process via the string section. IE, do not, outside the function,\n",
    "change the values of arg_str_1 or arg_str_2. Name this function \n",
    "correction_add_function(), i.e you will not be updating the wrong_add_function,\n",
    "you will simply handle the error of wrong inputs in a seperate function, you want\n",
    "the wrong_add_function to output its current result you are only bolstering the \n",
    "function for edge cases ."
   ]
  },
  {
   "cell_type": "code",
   "execution_count": 3,
   "metadata": {},
   "outputs": [],
   "source": [
    "def wrong_add_function(arg1, arg2):\n",
    "    # numeric section\n",
    "    if sum([type(i) == int for i in arg1]) == len(arg1) and \\\n",
    "       sum([type(i) == int for i in arg2]) == len(arg2):\n",
    "        arg1_index=0\n",
    "        while arg1_index < len(arg1):\n",
    "            arg_2_sum = 0\n",
    "            for arg2_elements in arg2:\n",
    "               arg_2_sum = sum([arg1[arg1_index] + arg2[arg1_index]])\n",
    "            arg1[arg1_index]=arg_2_sum  \n",
    "            arg1_index+=1\n",
    "        return arg1\n",
    "    # string section\n",
    "    elif sum([type(i) == str for i in arg1]) == len(arg1) and \\\n",
    "         sum([type(i) == str for i in arg2]) == len(arg2):\n",
    "        arg1_index = 0\n",
    "        while arg1_index < len(arg1):\n",
    "            arg_2_sum = ''\n",
    "            for arg2_elements in arg2:\n",
    "                arg_2_sum += arg2_elements\n",
    "            arg1[arg1_index] = arg1[arg1_index] + str(arg_2_sum)\n",
    "            arg1_index += 1\n",
    "        return arg1\n",
    "\n",
    "\n",
    "arg_str_1=['1','2','3']\n",
    "arg_str_2=['1','1', 1]\n",
    "wrong_add_function(arg_str_1,arg_str_2)\n",
    "\n",
    "\n",
    "def exception_add_function(arg1, arg2):\n",
    "    try:\n",
    "        return wrong_add_function(arg1, arg2)\n",
    "        element_type = type(arg1[0])\n",
    "        elememt_type2 = type(arg2[0])\n",
    "        print(element_type)\n",
    "    except TypeError as e:\n",
    "        print(f\"Error: {e}\")\n",
    "\n",
    "    \n",
    "        for i, val in enumerate(arg1):  \n",
    "            \n",
    "            if not all(isinstance(val, (int, str))): \n",
    "                print(f\"Your input argument 1 at element {i} is not of the expected type. Please change this and rerun.\")\n",
    "        \n",
    "        \n",
    "        \n",
    "        for i, val in enumerate(arg2):\n",
    "            if not isinstance(val, (int, str)):\n",
    "                print(f\"Your input argument 2 at element {i} is not of the expected type. Please change this and rerun.\")\n",
    "        return None\n",
    "    \n",
    "    exception_add_function(arg_str_1,arg_str_2)"
   ]
  },
  {
   "cell_type": "code",
   "execution_count": 20,
   "metadata": {},
   "outputs": [
    {
     "name": "stdout",
     "output_type": "stream",
     "text": [
      "Run exception_add_function\n",
      "None\n",
      "Run correct_add_function\n",
      "['1111', '2111', '3111']\n"
     ]
    }
   ],
   "source": [
    "def wrong_add_function(arg1, arg2):\n",
    "    # numeric section\n",
    "    if sum([type(i) == int for i in arg1]) == len(arg1) and \\\n",
    "       sum([type(i) == int for i in arg2]) == len(arg2):\n",
    "        arg1_index=0\n",
    "        while arg1_index < len(arg1):\n",
    "            arg_2_sum = 0\n",
    "            for arg2_elements in arg2:\n",
    "               arg_2_sum = sum([arg1[arg1_index] + arg2[arg1_index]])\n",
    "            arg1[arg1_index]=arg_2_sum  \n",
    "            arg1_index+=1\n",
    "        return arg1\n",
    "    # string section\n",
    "    elif sum([type(i) == str for i in arg1]) == len(arg1) and \\\n",
    "         sum([type(i) == str for i in arg2]) == len(arg2):\n",
    "        arg1_index = 0\n",
    "        while arg1_index < len(arg1):\n",
    "            arg_2_sum = ''\n",
    "            for arg2_elements in arg2:\n",
    "                arg_2_sum += arg2_elements\n",
    "            arg1[arg1_index] = arg1[arg1_index] + str(arg_2_sum)\n",
    "            arg1_index += 1\n",
    "        return arg1\n",
    "\n",
    "\n",
    "arg_str_1=['1','2',3]\n",
    "arg_str_2=['1','1', 1]\n",
    "wrong_add_function(arg_str_1,arg_str_2)\n",
    "\n",
    "#2B\n",
    "def exception_add_function(arg1,arg2):\n",
    "    try: \n",
    "        element_value1 = type(arg1[0])\n",
    "        element_value2 = type(arg2[0])\n",
    "        if not all(isinstance(element1, element_value1) for element1 in arg1):\n",
    "            raise TypeError(f\"Your input argument 1 at element {element1} is not of the expected type. Please change this and rerun.\")\n",
    "        elif not all(isinstance(element2, element_value1) for element2 in arg2):\n",
    "            raise TypeError(f\"Your input argument 1 at element {element2} is not of the expected type. Please change this and rerun.\")\n",
    "    except:\n",
    "        return wrong_add_function(arg1,arg2)\n",
    "arg_str_1=['1','2','3']\n",
    "arg_str_2=['1','1', 1]\n",
    "print(\"Run exception_add_function\")\n",
    "print(exception_add_function(arg_str_1,arg_str_2))\n",
    "\n",
    "\n",
    "#2C\n",
    "def correct_add_function(arg1,arg2):\n",
    "    try: \n",
    "        element_value1 = type(arg1[0])\n",
    "        element_value2 = type(arg2[0])\n",
    "        if not all(isinstance(element1, element_value1) for element1 in arg1):\n",
    "            arg1 = [str(i) for i in arg1 ]\n",
    "        elif not all(isinstance(element2, element_value1) for element2 in arg2):\n",
    "            arg2 = [str(i) for i in arg2 ]\n",
    "            return wrong_add_function(arg1,arg2)\n",
    "    except:\n",
    "            return wrong_add_function(arg1,arg2)\n",
    "\n",
    "arg_str_1=['1','2','3']\n",
    "arg_str_2=['1','1', 1]\n",
    "print(\"Run correct_add_function\")\n",
    "print(correct_add_function(arg_str_1,arg_str_2))\n"
   ]
  }
 ],
 "metadata": {
  "kernelspec": {
   "display_name": "Python 3",
   "language": "python",
   "name": "python3"
  },
  "language_info": {
   "codemirror_mode": {
    "name": "ipython",
    "version": 3
   },
   "file_extension": ".py",
   "mimetype": "text/x-python",
   "name": "python",
   "nbconvert_exporter": "python",
   "pygments_lexer": "ipython3",
   "version": "3.11.9"
  }
 },
 "nbformat": 4,
 "nbformat_minor": 2
}
