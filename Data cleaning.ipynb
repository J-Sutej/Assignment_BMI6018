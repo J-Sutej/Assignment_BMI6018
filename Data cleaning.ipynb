{
 "cells": [
  {
   "cell_type": "code",
   "execution_count": 2,
   "metadata": {},
   "outputs": [
    {
     "name": "stdout",
     "output_type": "stream",
     "text": [
      "   Unnamed: 0  year  month  day  dep_time  dep_delay  arr_time  arr_delay  \\\n",
      "0           1  2013      1    1     517.0        2.0     830.0       11.0   \n",
      "1           2  2013      1    1     533.0        4.0     850.0       20.0   \n",
      "2           3  2013      1    1     542.0        2.0     923.0       33.0   \n",
      "3           4  2013      1    1     544.0       -1.0    1004.0      -18.0   \n",
      "4           5  2013      1    1     554.0       -6.0     812.0      -25.0   \n",
      "5           6  2013      1    1     554.0       -4.0     740.0       12.0   \n",
      "6           7  2013      1    1     555.0       -5.0     913.0       19.0   \n",
      "7           8  2013      1    1     557.0       -3.0     709.0      -14.0   \n",
      "8           9  2013      1    1     557.0       -3.0     838.0       -8.0   \n",
      "9          10  2013      1    1     558.0       -2.0     753.0        8.0   \n",
      "\n",
      "  carrier tailnum  flight origin dest  air_time  distance  hour  minute  \n",
      "0      UA  N14228    1545    EWR  IAH     227.0      1400   5.0    17.0  \n",
      "1      UA  N24211    1714    LGA  IAH     227.0      1416   5.0    33.0  \n",
      "2      AA  N619AA    1141    JFK  MIA     160.0      1089   5.0    42.0  \n",
      "3      B6  N804JB     725    JFK  BQN     183.0      1576   5.0    44.0  \n",
      "4      DL  N668DN     461    LGA  ATL     116.0       762   5.0    54.0  \n",
      "5      UA  N39463    1696    EWR  ORD     150.0       719   5.0    54.0  \n",
      "6      B6  N516JB     507    EWR  FLL     158.0      1065   5.0    55.0  \n",
      "7      EV  N829AS    5708    LGA  IAD      53.0       229   5.0    57.0  \n",
      "8      B6  N593JB      79    JFK  MCO     140.0       944   5.0    57.0  \n",
      "9      AA  N3ALAA     301    LGA  ORD     138.0       733   5.0    58.0  \n",
      "      Unnamed: 0 origin  year  month   day  hour   temp   dewp  humid  \\\n",
      "0              1    EWR  2013    1.0   1.0   0.0  37.04  21.92  53.97   \n",
      "1              2    EWR  2013    1.0   1.0   1.0  37.04  21.92  53.97   \n",
      "2              3    EWR  2013    1.0   1.0   2.0  37.94  21.92  52.09   \n",
      "3              4    EWR  2013    1.0   1.0   3.0  37.94  23.00  54.51   \n",
      "4              5    EWR  2013    1.0   1.0   4.0  37.94  24.08  57.04   \n",
      "...          ...    ...   ...    ...   ...   ...    ...    ...    ...   \n",
      "8714        8715    JFK  2013    9.0   2.0  20.0  75.20  73.40  94.14   \n",
      "8715        8716    JFK  2013   10.0  23.0  10.0  48.92  39.02  68.51   \n",
      "8716        8717    JFK  2013   10.0  23.0  11.0  48.92  39.02  68.51   \n",
      "8717        8718    JFK  2013   12.0  17.0   5.0  26.96  10.94  50.34   \n",
      "8718        8719    LGA  2013    8.0  22.0  22.0  75.92  66.92  73.68   \n",
      "\n",
      "      wind_dir  wind_speed  wind_gust  precip  pressure  visib  \n",
      "0        230.0    10.35702  11.918651     0.0    1013.9   10.0  \n",
      "1        230.0    13.80936  15.891535     0.0    1013.0   10.0  \n",
      "2        230.0    12.65858  14.567241     0.0    1012.6   10.0  \n",
      "3        230.0    13.80936  15.891535     0.0    1012.7   10.0  \n",
      "4        240.0    14.96014  17.215830     0.0    1012.8   10.0  \n",
      "...        ...         ...        ...     ...       ...    ...  \n",
      "8714     200.0     4.60312   5.297178     0.0       NaN    4.0  \n",
      "8715      60.0     4.60312   5.297178     0.0    1008.1   10.0  \n",
      "8716      40.0     4.60312   5.297178     0.0    1008.5   10.0  \n",
      "8717      40.0     4.60312   5.297178     0.0    1023.9   10.0  \n",
      "8718     210.0     8.05546   9.270062     0.0    1011.9   10.0  \n",
      "\n",
      "[8719 rows x 15 columns]\n"
     ]
    }
   ],
   "source": [
    "#%% Libraries\n",
    "import pandas as pd\n",
    "import matplotlib.pyplot as plt\n",
    "import numpy as np\n",
    "\n",
    "#%% Importing Data\n",
    "flights_data = pd.read_csv('flights.csv')\n",
    "flights_data = flights_data[~pd.isna(flights_data)]\n",
    "print(flights_data.head(10))\n",
    "weather_data_pd = pd.read_csv('weather.csv')\n",
    "weather_data_np = weather_data_pd.to_numpy()\n",
    "print(weather_data_pd)\n",
    "#%% Pandas Data Filtering/Sorting Question Answering\n",
    "#use flights_data\n"
   ]
  },
  {
   "cell_type": "code",
   "execution_count": 172,
   "metadata": {},
   "outputs": [
    {
     "name": "stdout",
     "output_type": "stream",
     "text": [
      "q_1: The number of flight from JFK to SLC is 2113\n"
     ]
    }
   ],
   "source": [
    "#Question 1 How many flights were there from JFK to SLC? Int\n",
    "mask = (flights_data.origin == 'JFK') & (flights_data.dest == 'SLC') # create condition for filtering the data\n",
    "flight_number = len(flights_data[mask]) # count the number\n",
    "print(f'q_1: The number of flight from JFK to SLC is {flight_number}')"
   ]
  },
  {
   "cell_type": "code",
   "execution_count": 170,
   "metadata": {},
   "outputs": [
    {
     "name": "stdout",
     "output_type": "stream",
     "text": [
      "q_2: The number of flight from JFK to SLC is 2467\n"
     ]
    }
   ],
   "source": [
    "#Question 2 How many airlines fly to SLC? Should be int\n",
    "mask2 =flights_data.dest == 'SLC'\n",
    "flights_data[mask2]\n",
    "flight_number2 = len(flights_data[mask2]) # count the number\n",
    "print(f'q_2: The number of flight from JFK to SLC is {flight_number2}')"
   ]
  },
  {
   "cell_type": "code",
   "execution_count": 171,
   "metadata": {},
   "outputs": [
    {
     "name": "stdout",
     "output_type": "stream",
     "text": [
      "q_3: The average arrival delay for flights to RDU is 10.052380952380952 hours\n"
     ]
    }
   ],
   "source": [
    "#Question 3 What is the average arrival delay for flights to RDU? float\n",
    "mask3 = flights_data.dest == 'RDU'\n",
    "meantime = flights_data[mask3]['arr_delay'].mean() #fliter to RDu / slicing arr_delay column / calculate mean time\n",
    "print(f'q_3: The average arrival delay for flights to RDU is {float(meantime)} hours')"
   ]
  },
  {
   "cell_type": "code",
   "execution_count": null,
   "metadata": {},
   "outputs": [
    {
     "name": "stdout",
     "output_type": "stream",
     "text": [
      "The proportion of flights to SEA from JFK = 1.0 and LGA = 0.0\n"
     ]
    }
   ],
   "source": [
    "#Question 4 What proportion of flights to SEA come from the two NYC airports (LGA and JFK)?  float\n",
    "mask4 = ((flights_data.origin == 'LGA') | (flights_data.origin == 'JFK')) & (flights_data.dest == 'SEA') # filter only interested information\n",
    "flights_data[mask4]\n",
    "\n",
    "count_numerator = flights_data[mask4]['origin'].value_counts(dropna=False) # count all airports NYC to SEA (numerator) \n",
    "float_nu = float(count_numerator.loc['JFK'])\n",
    "\n",
    "count_denominator = flights_data[mask4]['dest'].value_counts(dropna=False) # count the SEA (denominator)\n",
    "float_de = float(count_denominator['SEA'])\n",
    "\n",
    "print(f'The proportion of flights to SEA from JFK = {float_nu/float_de} and LGA = {1-(float_nu/float_de)}')"
   ]
  },
  {
   "cell_type": "code",
   "execution_count": null,
   "metadata": {},
   "outputs": [
    {
     "name": "stdout",
     "output_type": "stream",
     "text": [
      "q_5: The largest average departure delay is\n",
      "          date  dep_delay\n",
      "364  2013/9/9   0.794742\n",
      "180  2013/3/8  83.536921\n"
     ]
    }
   ],
   "source": [
    "#Question 5 Which date has the largest average depature delay? Pd slice with date and float\n",
    "#please make date a column. Preferred format is 2013/1/1 (y/m/d)\n",
    "\n",
    "# Create a new 'date' column in the format 'y/m/d'\n",
    "flights_data['date'] = flights_data.apply(lambda row: f\"{row['year']}/{row['month']}/{row['day']}\", axis=1)\n",
    "\n",
    "# Group by 'date' and calculate the average departure delay for each date\n",
    "avg_dep_delay = flights_data.groupby('date')['dep_delay'].mean().reset_index()\n",
    "avg_dep_delay.idxmax() # find the index of the largest value\n",
    "print('q_5: The largest average departure delay is\\n', avg_dep_delay.iloc[avg_dep_delay.idxmax()]) # return the index"
   ]
  },
  {
   "cell_type": "code",
   "execution_count": 44,
   "metadata": {},
   "outputs": [
    {
     "name": "stdout",
     "output_type": "stream",
     "text": [
      "q_6: The largest average arrival delay is\n",
      "          date  arr_delay\n",
      "364  2013/9/9 -11.701417\n",
      "180  2013/3/8  85.862155\n"
     ]
    }
   ],
   "source": [
    "#Question 6 Which date has the largest average arrival delay? pd slice with date and float\n",
    "\n",
    "flights_data['date'] = flights_data.apply(lambda row: f\"{row['year']}/{row['month']}/{row['day']}\", axis=1)\n",
    "avg_arr_delay = flights_data.groupby('date')['arr_delay'].mean().reset_index()\n",
    "avg_arr_delay.idxmax()\n",
    "print('q_6: The largest average arrival delay is\\n',avg_arr_delay.iloc[avg_arr_delay.idxmax()])"
   ]
  },
  {
   "cell_type": "code",
   "execution_count": null,
   "metadata": {},
   "outputs": [
    {
     "data": {
      "text/plain": [
       "tailnum       N666DN\n",
       "speed      11.723077\n",
       "Name: 216447, dtype: object"
      ]
     },
     "execution_count": 34,
     "metadata": {},
     "output_type": "execute_result"
    }
   ],
   "source": [
    "#Question 7 Which flight departing LGA or JFK in 2013 flew the fastest? pd slice with tailnumber and speed\n",
    "#speed = distance/airtime\n",
    "flights_ori_7 = (flights_data.origin == 'LGA') | (flights_data.origin == 'JFK') # create the condition of departing LGA or JFK\n",
    "flights_data['speed'] = flights_data['distance'] / flights_data['air_time']\n",
    "\n",
    "slice_flight7 = flights_data[flights_ori_7] # filter only departing from LGA or JFK\n",
    "tailnum_speed = slice_flight7[['tailnum','speed']]\n",
    "\n",
    "# print(tailnum_speed) # show only tailnum and speed column\n",
    "\n",
    "# find the row of id max\n",
    "tailnum_speed.loc[tailnum_speed['speed'].idxmax()]\n",
    "\n",
    "\n",
    "\n"
   ]
  },
  {
   "cell_type": "code",
   "execution_count": 184,
   "metadata": {},
   "outputs": [
    {
     "name": "stdout",
     "output_type": "stream",
     "text": [
      "<class 'pandas.core.frame.DataFrame'>\n",
      "RangeIndex: 8719 entries, 0 to 8718\n",
      "Data columns (total 15 columns):\n",
      " #   Column      Non-Null Count  Dtype  \n",
      "---  ------      --------------  -----  \n",
      " 0   Unnamed: 0  8719 non-null   int64  \n",
      " 1   origin      8719 non-null   object \n",
      " 2   year        8719 non-null   int64  \n",
      " 3   month       8719 non-null   object \n",
      " 4   day         8719 non-null   object \n",
      " 5   hour        8719 non-null   object \n",
      " 6   temp        8719 non-null   object \n",
      " 7   dewp        8719 non-null   object \n",
      " 8   humid       8719 non-null   object \n",
      " 9   wind_dir    8719 non-null   object \n",
      " 10  wind_speed  8719 non-null   object \n",
      " 11  wind_gust   8719 non-null   object \n",
      " 12  precip      8719 non-null   float64\n",
      " 13  pressure    8719 non-null   object \n",
      " 14  visib       8719 non-null   float64\n",
      "dtypes: float64(2), int64(2), object(11)\n",
      "memory usage: 1021.9+ KB\n"
     ]
    }
   ],
   "source": [
    "#Question 8 Replace all nans in the weather pd dataframe with 0s. Pd with no nans\n",
    "weather_data_pd.fillna('0 ', inplace= True)\n",
    "weather_data_pd.info()\n"
   ]
  },
  {
   "cell_type": "code",
   "execution_count": 3,
   "metadata": {},
   "outputs": [
    {
     "name": "stdout",
     "output_type": "stream",
     "text": [
      "q_9: the number of observations were made in Febuary is 671\n"
     ]
    }
   ],
   "source": [
    "#%% Numpy Data Filtering/Sorting Question Answering\n",
    "#Use weather_data_np\n",
    "#Question 9 How many observations were made in Feburary? Int\n",
    "\n",
    "# From the weather_pd, month is in third column.\n",
    "Feb_rows = weather_data_np[weather_data_np[:, 3] == 2.0] # add condition(boolean type) into weather_np\n",
    "\n",
    "\n",
    "print(f'q_9: the number of observations were made in Febuary is {len(Feb_rows)}')"
   ]
  },
  {
   "cell_type": "code",
   "execution_count": 28,
   "metadata": {},
   "outputs": [
    {
     "name": "stdout",
     "output_type": "stream",
     "text": [
      "Mean humidity in Febuary is 62.918\n"
     ]
    }
   ],
   "source": [
    "#Question 10 What was the mean for humidity in February? Float\n",
    "# Humidity is in column index 8.\n",
    "\n",
    "humi_mean = np.mean(Feb_rows[:,8])\n",
    "print(f'Mean humidity in Febuary is {round(float(humi_mean), 3)}')"
   ]
  },
  {
   "cell_type": "code",
   "execution_count": 30,
   "metadata": {},
   "outputs": [
    {
     "name": "stdout",
     "output_type": "stream",
     "text": [
      "Std of humidity in Febuary is 20.337\n"
     ]
    }
   ],
   "source": [
    "#Question 11 What was the std for humidity in February? Float\n",
    "\n",
    "humi_mean = np.std(Feb_rows[:,8])\n",
    "print(f'Std of humidity in Febuary is {round(float(humi_mean), 3)}')\n"
   ]
  }
 ],
 "metadata": {
  "kernelspec": {
   "display_name": "Python 3",
   "language": "python",
   "name": "python3"
  },
  "language_info": {
   "codemirror_mode": {
    "name": "ipython",
    "version": 3
   },
   "file_extension": ".py",
   "mimetype": "text/x-python",
   "name": "python",
   "nbconvert_exporter": "python",
   "pygments_lexer": "ipython3",
   "version": "3.11.9"
  }
 },
 "nbformat": 4,
 "nbformat_minor": 2
}
